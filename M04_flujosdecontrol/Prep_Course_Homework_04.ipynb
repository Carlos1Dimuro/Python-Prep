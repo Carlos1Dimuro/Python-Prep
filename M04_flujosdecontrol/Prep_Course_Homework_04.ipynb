{
 "cells": [
  {
   "attachments": {},
   "cell_type": "markdown",
   "metadata": {},
   "source": [
    "## Flujos de Control"
   ]
  },
  {
   "attachments": {},
   "cell_type": "markdown",
   "metadata": {},
   "source": [
    "1) Crear una variable que contenga un elemento del conjunto de números enteros y luego imprimir por pantalla si es mayor o menor a cero"
   ]
  },
  {
   "cell_type": "code",
   "execution_count": null,
   "metadata": {},
   "outputs": [],
   "source": [
    "while True:\n",
    "    try:\n",
    "        variable = int(input('Ingrese un número: '))\n",
    "        if variable>0:\n",
    "                print('el numero ingresado en mayor que cero')\n",
    "        elif variable==0:\n",
    "                print('cero es el numero que usted ingresó')\n",
    "        else:\n",
    "                variable<0 \n",
    "                print('el numero ingresado es menor que cero')\n",
    "        break  # Si se ingresa un número válido, se sale del bucle\n",
    "    except ValueError:\n",
    "        print('El valor ingresado es diferente a lo que se solicita')\n",
    "        continue"
   ]
  },
  {
   "attachments": {},
   "cell_type": "markdown",
   "metadata": {},
   "source": [
    "2) Crear dos variables y un condicional que informe si son del mismo tipo de dato"
   ]
  },
  {
   "cell_type": "code",
   "execution_count": null,
   "metadata": {},
   "outputs": [],
   "source": [
    "var1=4.66\n",
    "var2=4.5\n",
    "if type(var1)==type(var2):\n",
    "    print('las variables en juego son pertenecientes al mismo tipo de dato')\n",
    "else:\n",
    "    print('las variables no pertenecen al mismo tipo de datos')"
   ]
  },
  {
   "attachments": {},
   "cell_type": "markdown",
   "metadata": {},
   "source": [
    "3) Para los valores enteros del 1 al 20, imprimir por pantalla si es par o impar"
   ]
  },
  {
   "cell_type": "code",
   "execution_count": null,
   "metadata": {},
   "outputs": [],
   "source": [
    "contador=0\n",
    "while contador<20:\n",
    "    contador=contador+1\n",
    "    if contador%2:\n",
    "        print('el numero ',contador, 'es impar')\n",
    "    else:\n",
    "     print('el numero ',contador, 'es par')   \n"
   ]
  },
  {
   "attachments": {},
   "cell_type": "markdown",
   "metadata": {},
   "source": [
    "4) En un ciclo for mostrar para los valores entre 0 y 5 el resultado de elevarlo a la potencia igual a 3"
   ]
  },
  {
   "cell_type": "code",
   "execution_count": null,
   "metadata": {},
   "outputs": [],
   "source": [
    "for i in range (0,6):\n",
    "    i=i**3\n",
    "    print(i)"
   ]
  },
  {
   "attachments": {},
   "cell_type": "markdown",
   "metadata": {},
   "source": [
    "5) Crear una variable que contenga un número entero y realizar un ciclo for la misma cantidad de ciclos"
   ]
  },
  {
   "cell_type": "code",
   "execution_count": null,
   "metadata": {},
   "outputs": [],
   "source": [
    "variable=6\n",
    "for i in range(variable):\n",
    "   print('ciclo',i+1)"
   ]
  },
  {
   "attachments": {},
   "cell_type": "markdown",
   "metadata": {},
   "source": [
    "6) Utilizar un ciclo while para realizar el factorial de un número guardado en una variable, sólo si la variable contiene un número entero mayor a 0"
   ]
  },
  {
   "cell_type": "code",
   "execution_count": null,
   "metadata": {},
   "outputs": [],
   "source": [
    "numero=int(input('ingrese un numero: '))\n",
    "if numero > 0:\n",
    "    factorial = 1\n",
    "    i = 1\n",
    "    while i <= numero:\n",
    "        factorial *= i\n",
    "        i += 1\n",
    "    print(\"El factorial de\",numero, \"es:\", factorial)\n",
    "else:\n",
    "    print(f\"Ud. ingresó {numero} y no tiene factorial calculable.\")"
   ]
  },
  {
   "attachments": {},
   "cell_type": "markdown",
   "metadata": {},
   "source": [
    "7) Crear un ciclo for dentro de un ciclo while"
   ]
  },
  {
   "cell_type": "code",
   "execution_count": null,
   "metadata": {},
   "outputs": [],
   "source": [
    "numero=int(input('ingrese un numero: '))\n",
    "while numero<=0:\n",
    "    print('el numero ingresado debe ser mayor que 0')\n",
    "    numero=int(input('ingrese un numero: '))\n",
    "for i in range(numero):\n",
    "    numero==i+1\n",
    "    print(f'la secuencia es: {numero} y se repite la instruccion por la misma cantidad')"
   ]
  },
  {
   "attachments": {},
   "cell_type": "markdown",
   "metadata": {},
   "source": [
    "8) Crear un ciclo while dentro de un ciclo for"
   ]
  },
  {
   "cell_type": "code",
   "execution_count": null,
   "metadata": {},
   "outputs": [],
   "source": [
    "numero=int(input('ingrese un numero: '))\n",
    "for i in range(numero):\n",
    "    print('la secuencia es:',i)\n",
    "    i+=1\n",
    "    while numero>10:\n",
    "        print('el valor ingresado es demaciado')\n",
    "        numero=int(input('ingrese un numero: '))"
   ]
  },
  {
   "attachments": {},
   "cell_type": "markdown",
   "metadata": {},
   "source": [
    "9) Imprimir los números primos existentes entre 0 y 30"
   ]
  },
  {
   "cell_type": "code",
   "execution_count": null,
   "metadata": {},
   "outputs": [],
   "source": [
    "def encontrar_primos(rango):\n",
    "    primos = []\n",
    "    es_primo = [True] * (rango + 1)\n",
    "    es_primo[0] = es_primo[1] = False\n",
    "\n",
    "    for num in range(2, int(rango ** 0.5) + 1):\n",
    "        if es_primo[num]:\n",
    "            primos.append(num)\n",
    "            for multiple in range(num * num, rango + 1, num):\n",
    "                es_primo[multiple] = False\n",
    "\n",
    "    for num in range(int(rango ** 0.5) + 1, rango + 1):\n",
    "        if es_primo[num]:\n",
    "            primos.append(num)\n",
    "\n",
    "    return primos\n",
    "\n",
    "rango_maximo = 30\n",
    "primos_en_rango = encontrar_primos(rango_maximo)\n",
    "print(\"Números primos en el rango de 0 a\", rango_maximo, \":\", primos_en_rango)\n",
    "#El diseño se inspiró en el algoritmo de la Criba de Eratóstenes."
   ]
  },
  {
   "attachments": {},
   "cell_type": "markdown",
   "metadata": {},
   "source": [
    "10) ¿Se puede mejorar el proceso del punto 9? Utilizar las sentencias break y/ó continue para tal fin"
   ]
  },
  {
   "cell_type": "code",
   "execution_count": null,
   "metadata": {},
   "outputs": [],
   "source": [
    "# Encontrar números primos en el rango de 0 a 30\n",
    "\n",
    "for numero in range(2, 31):  # Empezamos desde 2, ya que 0 y 1 no son primos\n",
    "    es_primo = True\n",
    "\n",
    "    for divisor in range(2, int(numero ** 0.5) + 1):\n",
    "        if numero % divisor == 0:  # Si es divisible por algún número en el rango\n",
    "            es_primo = False\n",
    "            break  # No es necesario seguir buscando divisores, ya sabemos que no es primo\n",
    "\n",
    "    if es_primo:\n",
    "        print(f\"{numero} es un número primo.\")\n"
   ]
  },
  {
   "attachments": {},
   "cell_type": "markdown",
   "metadata": {},
   "source": [
    "11) En los puntos 9 y 10, se diseño un código que encuentra números primos y además se lo optimizó. ¿Es posible saber en qué medida se optimizó?"
   ]
  },
  {
   "cell_type": "code",
   "execution_count": null,
   "metadata": {},
   "outputs": [],
   "source": [
    "# El algoritmo inspirado en la Criba de Eratóstenes ofrece una solucion más elegante y eficiente \n",
    "# para localizar números primos en un rango específico como se planteó en el ejercicio 9."
   ]
  },
  {
   "attachments": {},
   "cell_type": "markdown",
   "metadata": {},
   "source": [
    "12) Si la cantidad de números que se evalúa es mayor a treinta, esa optimización crece?"
   ]
  },
  {
   "cell_type": "code",
   "execution_count": null,
   "metadata": {},
   "outputs": [],
   "source": [
    "#Si el rango crece lo que debería modificar es la variable rango_maximo por el valor requerido.\n",
    "# Veamos, por ejemplo, cuando los numeros a evaluar en el sistema son: 100.\n",
    "def encontrar_primos(rango):\n",
    "    primos = []\n",
    "    es_primo = [True] * (rango + 1)\n",
    "    es_primo[0] = es_primo[1] = False\n",
    "\n",
    "    for num in range(2, int(rango ** 0.5) + 1):\n",
    "        if es_primo[num]:\n",
    "            primos.append(num)\n",
    "            for multiple in range(num * num, rango + 1, num):\n",
    "                es_primo[multiple] = False\n",
    "\n",
    "    for num in range(int(rango ** 0.5) + 1, rango + 1):\n",
    "        if es_primo[num]:\n",
    "            primos.append(num)\n",
    "\n",
    "    return primos\n",
    "\n",
    "rango_maximo = 100 #aqui modificamos el valor maximo que el sistema tiene para evaluar.\n",
    "primos_en_rango = encontrar_primos(rango_maximo)\n",
    "print(\"Números primos en el rango de 0 a\", rango_maximo, \":\", primos_en_rango)"
   ]
  },
  {
   "attachments": {},
   "cell_type": "markdown",
   "metadata": {},
   "source": [
    "13) Aplicando continue, armar un ciclo while que solo imprima los valores divisibles por 12, dentro del rango de números de 100 a 300"
   ]
  },
  {
   "cell_type": "code",
   "execution_count": null,
   "metadata": {},
   "outputs": [],
   "source": [
    "numero = 100\n",
    "\n",
    "while numero <= 300:\n",
    "    if numero % 12 != 0:\n",
    "        numero += 1\n",
    "        continue\n",
    "\n",
    "    print(numero)\n",
    "    numero += 1\n"
   ]
  },
  {
   "attachments": {},
   "cell_type": "markdown",
   "metadata": {},
   "source": [
    "14) Utilizar la función **input()** que permite hacer ingresos por teclado, para encontrar números primos y dar la opción al usario de buscar el siguiente"
   ]
  },
  {
   "cell_type": "code",
   "execution_count": null,
   "metadata": {},
   "outputs": [],
   "source": [
    "def es_primo(numero):\n",
    "    if numero < 2:\n",
    "        return False\n",
    "    for i in range(2, int(numero**0.5) + 1):\n",
    "        if numero % i == 0:\n",
    "            return False\n",
    "    return True\n",
    "\n",
    "def encontrar_siguiente_primo(numero_actual):\n",
    "    siguiente = numero_actual + 1\n",
    "    while True:\n",
    "        if es_primo(siguiente):\n",
    "            return siguiente\n",
    "        siguiente += 1\n",
    "\n",
    "while True:\n",
    "    try:\n",
    "        numero_ingresado = int(input(\"Ingrese un número (o 'salir' para terminar): \"))\n",
    "        if numero_ingresado == \"salir\":\n",
    "            break\n",
    "        if es_primo(numero_ingresado):\n",
    "            print(f\"{numero_ingresado} es un número primo.\")\n",
    "        else:\n",
    "            print(f\"{numero_ingresado} no es un número primo.\")\n",
    "\n",
    "        buscar_siguiente = input(\"¿Desea buscar el siguiente número primo? (s/n): \")\n",
    "        if buscar_siguiente.lower() != \"s\":\n",
    "            break\n",
    "\n",
    "        numero_ingresado = encontrar_siguiente_primo(numero_ingresado)\n",
    "        print(f\"Siguiente número primo: {numero_ingresado}\")\n",
    "    except ValueError:\n",
    "        print(\"Debe ingresar un número válido. Intente nuevamente.\")\n"
   ]
  },
  {
   "attachments": {},
   "cell_type": "markdown",
   "metadata": {},
   "source": [
    "15) Crear un ciclo while que encuentre dentro del rango de 100 a 300 el primer número divisible por 3 y además múltiplo de 6"
   ]
  },
  {
   "cell_type": "code",
   "execution_count": null,
   "metadata": {},
   "outputs": [],
   "source": [
    "numero = 100\n",
    "\n",
    "while numero <= 300:\n",
    "    if numero % 3 == 0 and numero % 6 == 0:\n",
    "        print(f\"El primer número divisible por 3 y múltiplo de 6 es: {numero}\")\n",
    "        break\n",
    "    numero += 1\n"
   ]
  }
 ],
 "metadata": {
  "interpreter": {
   "hash": "c85384e4cb51c8b72350f3a8712cc8351fdc3955e32a27f9b60c6242ab125f01"
  },
  "kernelspec": {
   "display_name": "Python 3 (ipykernel)",
   "language": "python",
   "name": "python3"
  },
  "language_info": {
   "codemirror_mode": {
    "name": "ipython",
    "version": 3
   },
   "file_extension": ".py",
   "mimetype": "text/x-python",
   "name": "python",
   "nbconvert_exporter": "python",
   "pygments_lexer": "ipython3",
   "version": "3.11.4"
  }
 },
 "nbformat": 4,
 "nbformat_minor": 4
}
